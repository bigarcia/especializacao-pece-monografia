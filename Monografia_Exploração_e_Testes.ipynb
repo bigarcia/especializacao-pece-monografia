{
  "nbformat": 4,
  "nbformat_minor": 0,
  "metadata": {
    "colab": {
      "provenance": [],
      "toc_visible": true,
      "authorship_tag": "ABX9TyMJgmvX3B4+sxXhccgeIGCa",
      "include_colab_link": true
    },
    "kernelspec": {
      "name": "python3",
      "display_name": "Python 3"
    },
    "language_info": {
      "name": "python"
    }
  },
  "cells": [
    {
      "cell_type": "markdown",
      "metadata": {
        "id": "view-in-github",
        "colab_type": "text"
      },
      "source": [
        "<a href=\"https://colab.research.google.com/github/bigarcia/especializacao-pece-monografia/blob/main/Monografia_Explora%C3%A7%C3%A3o_e_Testes.ipynb\" target=\"_parent\"><img src=\"https://colab.research.google.com/assets/colab-badge.svg\" alt=\"Open In Colab\"/></a>"
      ]
    },
    {
      "cell_type": "code",
      "source": [
        "pip install -r requirements.txt"
      ],
      "metadata": {
        "colab": {
          "base_uri": "https://localhost:8080/"
        },
        "id": "HQ65yHfZim_o",
        "outputId": "4c1a15b3-6267-4958-9aae-ac5d12690052"
      },
      "execution_count": null,
      "outputs": [
        {
          "output_type": "stream",
          "name": "stdout",
          "text": [
            "Requirement already satisfied: pyspark==3.4.1 in /usr/local/lib/python3.11/dist-packages (from -r requirements.txt (line 1)) (3.4.1)\n",
            "Requirement already satisfied: numpy==1.24.4 in /usr/local/lib/python3.11/dist-packages (from -r requirements.txt (line 2)) (1.24.4)\n",
            "Requirement already satisfied: pandas==1.5.3 in /usr/local/lib/python3.11/dist-packages (from -r requirements.txt (line 3)) (1.5.3)\n",
            "Requirement already satisfied: scikit-learn==1.3.0 in /usr/local/lib/python3.11/dist-packages (from -r requirements.txt (line 4)) (1.3.0)\n",
            "Requirement already satisfied: matplotlib==3.7.1 in /usr/local/lib/python3.11/dist-packages (from -r requirements.txt (line 5)) (3.7.1)\n",
            "Requirement already satisfied: seaborn==0.12.2 in /usr/local/lib/python3.11/dist-packages (from -r requirements.txt (line 6)) (0.12.2)\n",
            "Requirement already satisfied: joblib==1.3.2 in /usr/local/lib/python3.11/dist-packages (from -r requirements.txt (line 7)) (1.3.2)\n",
            "Requirement already satisfied: py4j==0.10.9.7 in /usr/local/lib/python3.11/dist-packages (from pyspark==3.4.1->-r requirements.txt (line 1)) (0.10.9.7)\n",
            "Requirement already satisfied: python-dateutil>=2.8.1 in /usr/local/lib/python3.11/dist-packages (from pandas==1.5.3->-r requirements.txt (line 3)) (2.9.0.post0)\n",
            "Requirement already satisfied: pytz>=2020.1 in /usr/local/lib/python3.11/dist-packages (from pandas==1.5.3->-r requirements.txt (line 3)) (2025.2)\n",
            "Requirement already satisfied: scipy>=1.5.0 in /usr/local/lib/python3.11/dist-packages (from scikit-learn==1.3.0->-r requirements.txt (line 4)) (1.15.3)\n",
            "Requirement already satisfied: threadpoolctl>=2.0.0 in /usr/local/lib/python3.11/dist-packages (from scikit-learn==1.3.0->-r requirements.txt (line 4)) (3.6.0)\n",
            "Requirement already satisfied: contourpy>=1.0.1 in /usr/local/lib/python3.11/dist-packages (from matplotlib==3.7.1->-r requirements.txt (line 5)) (1.3.2)\n",
            "Requirement already satisfied: cycler>=0.10 in /usr/local/lib/python3.11/dist-packages (from matplotlib==3.7.1->-r requirements.txt (line 5)) (0.12.1)\n",
            "Requirement already satisfied: fonttools>=4.22.0 in /usr/local/lib/python3.11/dist-packages (from matplotlib==3.7.1->-r requirements.txt (line 5)) (4.59.0)\n",
            "Requirement already satisfied: kiwisolver>=1.0.1 in /usr/local/lib/python3.11/dist-packages (from matplotlib==3.7.1->-r requirements.txt (line 5)) (1.4.8)\n",
            "Requirement already satisfied: packaging>=20.0 in /usr/local/lib/python3.11/dist-packages (from matplotlib==3.7.1->-r requirements.txt (line 5)) (25.0)\n",
            "Requirement already satisfied: pillow>=6.2.0 in /usr/local/lib/python3.11/dist-packages (from matplotlib==3.7.1->-r requirements.txt (line 5)) (11.3.0)\n",
            "Requirement already satisfied: pyparsing>=2.3.1 in /usr/local/lib/python3.11/dist-packages (from matplotlib==3.7.1->-r requirements.txt (line 5)) (3.2.3)\n",
            "Requirement already satisfied: six>=1.5 in /usr/local/lib/python3.11/dist-packages (from python-dateutil>=2.8.1->pandas==1.5.3->-r requirements.txt (line 3)) (1.17.0)\n"
          ]
        }
      ]
    },
    {
      "cell_type": "markdown",
      "source": [
        "# Imports"
      ],
      "metadata": {
        "id": "5eHn0DvIp21G"
      }
    },
    {
      "cell_type": "code",
      "source": [
        "from pyspark.sql.functions import col, when, count, trim\n",
        "from pyspark.sql import SparkSession\n",
        "from pyspark.ml import Pipeline\n",
        "from pyspark.ml.feature import StringIndexer, OneHotEncoder, StandardScaler, VectorAssembler"
      ],
      "metadata": {
        "id": "024yB5Qgp0sg"
      },
      "execution_count": null,
      "outputs": []
    },
    {
      "cell_type": "markdown",
      "source": [
        "# Leitura do arquivo"
      ],
      "metadata": {
        "id": "p6XJrhQvoInq"
      }
    },
    {
      "cell_type": "markdown",
      "source": [
        "Inicia Spark Session"
      ],
      "metadata": {
        "id": "JJBauIqTiv_y"
      }
    },
    {
      "cell_type": "code",
      "source": [
        "spark = SparkSession.builder \\\n",
        "    .appName(\"Data Cleaning\") \\\n",
        "    .config(\"spark.jars\", \"/home/ec2-user/jars/hadoop-aws-3.3.4.jar,/home/ec2-user/jars/aws-java-sdk-bundle-1.12.375.jar\") \\\n",
        "    .config(\"spark.hadoop.fs.s3a.impl\", \"org.apache.hadoop.fs.s3a.S3AFileSystem\") \\\n",
        "    .config(\"spark.hadoop.fs.s3a.aws.credentials.provider\", \"com.amazonaws.auth.DefaultAWSCredentialsProviderChain\") \\\n",
        "    .getOrCreate()\n"
      ],
      "metadata": {
        "id": "0cT_FCe7ivJW"
      },
      "execution_count": null,
      "outputs": []
    },
    {
      "cell_type": "markdown",
      "source": [
        "Ler arquivo"
      ],
      "metadata": {
        "id": "eMK0j3Iui0mU"
      }
    },
    {
      "cell_type": "code",
      "source": [
        "s3_input_path = \"/content/credit_risk_dataset.csv\"\n",
        "df = spark.read.csv(s3_input_path, header=True, inferSchema=True)\n",
        "df.show(5)"
      ],
      "metadata": {
        "colab": {
          "base_uri": "https://localhost:8080/"
        },
        "id": "yD2Z8FSTizZ_",
        "outputId": "65104fe5-5f1e-4b02-b6e9-25d3ba6dd566"
      },
      "execution_count": null,
      "outputs": [
        {
          "output_type": "stream",
          "name": "stdout",
          "text": [
            "+----------+-------------+---------------------+-----------------+-----------+----------+---------+-------------+-----------+-------------------+-------------------------+--------------------------+\n",
            "|person_age|person_income|person_home_ownership|person_emp_length|loan_intent|loan_grade|loan_amnt|loan_int_rate|loan_status|loan_percent_income|cb_person_default_on_file|cb_person_cred_hist_length|\n",
            "+----------+-------------+---------------------+-----------------+-----------+----------+---------+-------------+-----------+-------------------+-------------------------+--------------------------+\n",
            "|        22|        59000|                 RENT|            123.0|   PERSONAL|         D|    35000|        16.02|          1|               0.59|                        Y|                         3|\n",
            "|        21|         9600|                  OWN|              5.0|  EDUCATION|         B|     1000|        11.14|          0|                0.1|                        N|                         2|\n",
            "|        25|         9600|             MORTGAGE|              1.0|    MEDICAL|         C|     5500|        12.87|          1|               0.57|                        N|                         3|\n",
            "|        23|        65500|                 RENT|              4.0|    MEDICAL|         C|    35000|        15.23|          1|               0.53|                        N|                         2|\n",
            "|        24|        54400|                 RENT|              8.0|    MEDICAL|         C|    35000|        14.27|          1|               0.55|                        Y|                         4|\n",
            "+----------+-------------+---------------------+-----------------+-----------+----------+---------+-------------+-----------+-------------------+-------------------------+--------------------------+\n",
            "only showing top 5 rows\n",
            "\n"
          ]
        }
      ]
    },
    {
      "cell_type": "markdown",
      "source": [
        "Schema"
      ],
      "metadata": {
        "id": "njYSGQZei6tx"
      }
    },
    {
      "cell_type": "code",
      "source": [
        "df.printSchema()"
      ],
      "metadata": {
        "colab": {
          "base_uri": "https://localhost:8080/"
        },
        "id": "0yEQwDhmi6Lk",
        "outputId": "cc061d5b-f70e-46dd-b26e-5645a8ff1841"
      },
      "execution_count": null,
      "outputs": [
        {
          "output_type": "stream",
          "name": "stdout",
          "text": [
            "root\n",
            " |-- person_age: integer (nullable = true)\n",
            " |-- person_income: integer (nullable = true)\n",
            " |-- person_home_ownership: string (nullable = true)\n",
            " |-- person_emp_length: double (nullable = true)\n",
            " |-- loan_intent: string (nullable = true)\n",
            " |-- loan_grade: string (nullable = true)\n",
            " |-- loan_amnt: integer (nullable = true)\n",
            " |-- loan_int_rate: double (nullable = true)\n",
            " |-- loan_status: integer (nullable = true)\n",
            " |-- loan_percent_income: double (nullable = true)\n",
            " |-- cb_person_default_on_file: string (nullable = true)\n",
            " |-- cb_person_cred_hist_length: integer (nullable = true)\n",
            "\n"
          ]
        }
      ]
    },
    {
      "cell_type": "markdown",
      "source": [
        "#Análise dos dados"
      ],
      "metadata": {
        "id": "c4yxF7iHi9hQ"
      }
    },
    {
      "cell_type": "code",
      "source": [
        "categorical_cols = [c for c, t in df.dtypes if t == \"string\"]\n",
        "numeric_cols = [c for c, t in df.dtypes if t in [\"double\", \"int\"]]"
      ],
      "metadata": {
        "id": "0lr3qWFCKqIq"
      },
      "execution_count": 137,
      "outputs": []
    },
    {
      "cell_type": "code",
      "source": [
        "print(f\"Total de registros: {df.count()}\")\n"
      ],
      "metadata": {
        "colab": {
          "base_uri": "https://localhost:8080/"
        },
        "id": "iQo7loeflaT5",
        "outputId": "503097ad-fc76-4bc8-cc96-9db3292648dd"
      },
      "execution_count": null,
      "outputs": [
        {
          "output_type": "stream",
          "name": "stdout",
          "text": [
            "Total de registros: 32581\n"
          ]
        }
      ]
    },
    {
      "cell_type": "code",
      "source": [
        "df.select(\n",
        "    \"person_age\", \"person_income\", \"person_emp_length\",\n",
        "    \"loan_amnt\", \"loan_int_rate\", \"loan_percent_income\",\n",
        "    \"cb_person_cred_hist_length\"\n",
        ").describe().show()\n"
      ],
      "metadata": {
        "colab": {
          "base_uri": "https://localhost:8080/"
        },
        "id": "_rGH3Hbulc2a",
        "outputId": "bdc3c7ab-3216-4e6e-cc7b-2c73a2aa2326"
      },
      "execution_count": null,
      "outputs": [
        {
          "output_type": "stream",
          "name": "stdout",
          "text": [
            "+-------+-----------------+-----------------+-----------------+-----------------+------------------+-------------------+--------------------------+\n",
            "|summary|       person_age|    person_income|person_emp_length|        loan_amnt|     loan_int_rate|loan_percent_income|cb_person_cred_hist_length|\n",
            "+-------+-----------------+-----------------+-----------------+-----------------+------------------+-------------------+--------------------------+\n",
            "|  count|            32581|            32581|            31686|            32581|             29465|              32581|                     32581|\n",
            "|   mean|27.73459992019889|66074.84846996715|4.789686296787225|9589.371105859243| 11.01169489224439|0.17020349283325145|         5.804211043246064|\n",
            "| stddev|6.348078419225344|61983.11916815915|4.142630148887855| 6322.08664579226|3.2404594649559364|0.10678175634492376|        4.0550011647127375|\n",
            "|    min|               20|             4000|              0.0|              500|              5.42|                0.0|                         2|\n",
            "|    max|              144|          6000000|            123.0|            35000|             23.22|               0.83|                        30|\n",
            "+-------+-----------------+-----------------+-----------------+-----------------+------------------+-------------------+--------------------------+\n",
            "\n"
          ]
        }
      ]
    },
    {
      "cell_type": "markdown",
      "source": [
        " Distribuição de classes-alvo (loan_status)"
      ],
      "metadata": {
        "id": "HN6IBl-VlkfF"
      }
    },
    {
      "cell_type": "code",
      "source": [
        "df.groupBy(\"loan_status\").count().show()"
      ],
      "metadata": {
        "colab": {
          "base_uri": "https://localhost:8080/"
        },
        "id": "n5WynVmwleVL",
        "outputId": "b7f1a3f7-b0c9-4339-ae7d-033c33ab7a32"
      },
      "execution_count": null,
      "outputs": [
        {
          "output_type": "stream",
          "name": "stdout",
          "text": [
            "+-----------+-----+\n",
            "|loan_status|count|\n",
            "+-----------+-----+\n",
            "|          1| 7108|\n",
            "|          0|25473|\n",
            "+-----------+-----+\n",
            "\n"
          ]
        }
      ]
    },
    {
      "cell_type": "markdown",
      "source": [
        "Valores únicos e frequência de colunas categóricas"
      ],
      "metadata": {
        "id": "Om6_VjL9lnj2"
      }
    },
    {
      "cell_type": "code",
      "source": [
        "# categorical_cols = [\n",
        "#     \"person_home_ownership\", \"loan_intent\", \"loan_grade\",\n",
        "#     \"cb_person_default_on_file\"\n",
        "# ]\n",
        "\n",
        "# categorical_cols = [c for c, t in df.dtypes if t == \"string\"]\n"
      ],
      "metadata": {
        "id": "dJPiLR6zJke_"
      },
      "execution_count": 135,
      "outputs": []
    },
    {
      "cell_type": "code",
      "source": [
        "\n",
        "for col_name in categorical_cols:\n",
        "    print(f\"\\nValores únicos em '{col_name}':\")\n",
        "    df.groupBy(col_name).count().orderBy(\"count\", ascending=False).show()\n"
      ],
      "metadata": {
        "colab": {
          "base_uri": "https://localhost:8080/"
        },
        "id": "q9AaOqDJlhjL",
        "outputId": "9164fb12-c656-4b84-d840-3cf810ab6051"
      },
      "execution_count": null,
      "outputs": [
        {
          "output_type": "stream",
          "name": "stdout",
          "text": [
            "\n",
            "Valores únicos em 'person_home_ownership':\n",
            "+---------------------+-----+\n",
            "|person_home_ownership|count|\n",
            "+---------------------+-----+\n",
            "|                 RENT|16446|\n",
            "|             MORTGAGE|13444|\n",
            "|                  OWN| 2584|\n",
            "|                OTHER|  107|\n",
            "+---------------------+-----+\n",
            "\n",
            "\n",
            "Valores únicos em 'loan_intent':\n",
            "+-----------------+-----+\n",
            "|      loan_intent|count|\n",
            "+-----------------+-----+\n",
            "|        EDUCATION| 6453|\n",
            "|          MEDICAL| 6071|\n",
            "|          VENTURE| 5719|\n",
            "|         PERSONAL| 5521|\n",
            "|DEBTCONSOLIDATION| 5212|\n",
            "|  HOMEIMPROVEMENT| 3605|\n",
            "+-----------------+-----+\n",
            "\n",
            "\n",
            "Valores únicos em 'loan_grade':\n",
            "+----------+-----+\n",
            "|loan_grade|count|\n",
            "+----------+-----+\n",
            "|         A|10777|\n",
            "|         B|10451|\n",
            "|         C| 6458|\n",
            "|         D| 3626|\n",
            "|         E|  964|\n",
            "|         F|  241|\n",
            "|         G|   64|\n",
            "+----------+-----+\n",
            "\n",
            "\n",
            "Valores únicos em 'cb_person_default_on_file':\n",
            "+-------------------------+-----+\n",
            "|cb_person_default_on_file|count|\n",
            "+-------------------------+-----+\n",
            "|                        N|26836|\n",
            "|                        Y| 5745|\n",
            "+-------------------------+-----+\n",
            "\n"
          ]
        }
      ]
    },
    {
      "cell_type": "markdown",
      "source": [
        " Valores nulos por coluna"
      ],
      "metadata": {
        "id": "emFO45wBls4T"
      }
    },
    {
      "cell_type": "code",
      "source": [
        "from pyspark.sql.functions import col, sum as spark_sum, when\n",
        "\n",
        "df.select([\n",
        "    spark_sum(when(col(c).isNull(), 1).otherwise(0)).alias(c)\n",
        "    for c in df.columns\n",
        "]).show()"
      ],
      "metadata": {
        "colab": {
          "base_uri": "https://localhost:8080/"
        },
        "id": "tbRFuZh3lrbe",
        "outputId": "acbdd266-408c-44c3-d8eb-aeee37fce664"
      },
      "execution_count": null,
      "outputs": [
        {
          "output_type": "stream",
          "name": "stdout",
          "text": [
            "+----------+-------------+---------------------+-----------------+-----------+----------+---------+-------------+-----------+-------------------+-------------------------+--------------------------+\n",
            "|person_age|person_income|person_home_ownership|person_emp_length|loan_intent|loan_grade|loan_amnt|loan_int_rate|loan_status|loan_percent_income|cb_person_default_on_file|cb_person_cred_hist_length|\n",
            "+----------+-------------+---------------------+-----------------+-----------+----------+---------+-------------+-----------+-------------------+-------------------------+--------------------------+\n",
            "|         0|            0|                    0|              895|          0|         0|        0|         3116|          0|                  0|                        0|                         0|\n",
            "+----------+-------------+---------------------+-----------------+-----------+----------+---------+-------------+-----------+-------------------+-------------------------+--------------------------+\n",
            "\n"
          ]
        }
      ]
    },
    {
      "cell_type": "markdown",
      "source": [
        "Distribuição de variáveis numéricas"
      ],
      "metadata": {
        "id": "r9jJaWKxniuN"
      }
    },
    {
      "cell_type": "markdown",
      "source": [
        "Quantos nulos existem por linha\n"
      ],
      "metadata": {
        "id": "-74Js_ijnj73"
      }
    },
    {
      "cell_type": "code",
      "source": [
        "from pyspark.sql.functions import col, sum as spark_sum, when\n",
        "\n",
        "# Lista de colunas do DataFrame\n",
        "cols = df.columns\n",
        "\n",
        "# Soma dos valores nulos por linha\n",
        "df_with_nulls = df.withColumn(\n",
        "    \"null_count\",\n",
        "    sum(when(col(c).isNull(), 1).otherwise(0) for c in cols)\n",
        ")\n",
        "\n",
        "# Exibir as linhas com mais de 3 nulos\n",
        "df_with_nulls.filter(col(\"null_count\") > (len(cols) - 3)).show(truncate=False)\n"
      ],
      "metadata": {
        "colab": {
          "base_uri": "https://localhost:8080/"
        },
        "id": "z0g_QxKvkyGS",
        "outputId": "953d440a-e905-4b74-cb21-017c5ad84198"
      },
      "execution_count": null,
      "outputs": [
        {
          "output_type": "stream",
          "name": "stdout",
          "text": [
            "+----------+-------------+---------------------+-----------------+-----------+----------+---------+-------------+-----------+-------------------+-------------------------+--------------------------+----------+\n",
            "|person_age|person_income|person_home_ownership|person_emp_length|loan_intent|loan_grade|loan_amnt|loan_int_rate|loan_status|loan_percent_income|cb_person_default_on_file|cb_person_cred_hist_length|null_count|\n",
            "+----------+-------------+---------------------+-----------------+-----------+----------+---------+-------------+-----------+-------------------+-------------------------+--------------------------+----------+\n",
            "+----------+-------------+---------------------+-----------------+-----------+----------+---------+-------------+-----------+-------------------+-------------------------+--------------------------+----------+\n",
            "\n"
          ]
        }
      ]
    },
    {
      "cell_type": "markdown",
      "source": [
        "Distribuição de valores nulos por linha"
      ],
      "metadata": {
        "id": "UcimrTBJnsEX"
      }
    },
    {
      "cell_type": "code",
      "source": [
        "df_with_nulls.groupBy(\"null_count\").count().orderBy(\"null_count\", ascending=False).show()\n"
      ],
      "metadata": {
        "colab": {
          "base_uri": "https://localhost:8080/"
        },
        "id": "fCB0ny3kk4_U",
        "outputId": "7b4788f3-1d97-4472-b94a-5859453e8f4b"
      },
      "execution_count": null,
      "outputs": [
        {
          "output_type": "stream",
          "name": "stdout",
          "text": [
            "+----------+-----+\n",
            "|null_count|count|\n",
            "+----------+-----+\n",
            "|         2|   68|\n",
            "|         1| 3875|\n",
            "|         0|28638|\n",
            "+----------+-----+\n",
            "\n"
          ]
        }
      ]
    },
    {
      "cell_type": "markdown",
      "source": [
        "# Limpeza dos dados"
      ],
      "metadata": {
        "id": "uYO8TTNaoK67"
      }
    },
    {
      "cell_type": "markdown",
      "source": [
        "## Duplicatas"
      ],
      "metadata": {
        "id": "gqcYDtIFp6f9"
      }
    },
    {
      "cell_type": "code",
      "source": [
        "# Verificar se há registros duplicados\n",
        "print(f\"Número de linhas distintas: {df.distinct().count()}\")\n",
        "print(f\"Número de linhas antes: {df.count()}\")\n",
        "\n",
        "# Exibir registros duplicados, se houver\n",
        "df.groupBy(df.columns).count().filter(\"count > 1\").show()"
      ],
      "metadata": {
        "colab": {
          "base_uri": "https://localhost:8080/"
        },
        "id": "roC5a1HKq2uQ",
        "outputId": "6fd4a3f0-c966-44d6-abd1-7e12d0ed2a34"
      },
      "execution_count": null,
      "outputs": [
        {
          "output_type": "stream",
          "name": "stdout",
          "text": [
            "Número de linhas distintas: 32416\n",
            "Número de linhas antes: 32581\n",
            "+----------+-------------+---------------------+-----------------+-----------------+----------+---------+-------------+-----------+-------------------+-------------------------+--------------------------+-----+\n",
            "|person_age|person_income|person_home_ownership|person_emp_length|      loan_intent|loan_grade|loan_amnt|loan_int_rate|loan_status|loan_percent_income|cb_person_default_on_file|cb_person_cred_hist_length|count|\n",
            "+----------+-------------+---------------------+-----------------+-----------------+----------+---------+-------------+-----------+-------------------+-------------------------+--------------------------+-----+\n",
            "|        24|        39000|                 RENT|              8.0|          MEDICAL|         D|     1500|        15.62|          0|               0.04|                        Y|                         3|    2|\n",
            "|        30|        52800|                 RENT|              4.0|         PERSONAL|         B|     2400|         9.62|          0|               0.05|                        N|                         7|    2|\n",
            "|        27|        58000|                 RENT|             11.0|          VENTURE|         A|     7000|         null|          0|               0.12|                        N|                         9|    2|\n",
            "|        42|        39996|             MORTGAGE|              2.0|  HOMEIMPROVEMENT|         A|     2500|         5.42|          0|               0.06|                        N|                        12|    2|\n",
            "|        25|        30000|             MORTGAGE|              3.0|  HOMEIMPROVEMENT|         A|    12000|         5.99|          1|                0.4|                        N|                         4|    2|\n",
            "|        23|        58000|                OTHER|              0.0|          VENTURE|         B|    16000|        12.21|          0|               0.28|                        N|                         4|    2|\n",
            "|        22|        75600|             MORTGAGE|              3.0|        EDUCATION|         A|    10000|         null|          0|               0.13|                        N|                         4|    2|\n",
            "|        22|        41000|                 RENT|              6.0|          VENTURE|         A|     5000|         null|          0|               0.12|                        N|                         2|    2|\n",
            "|        21|        47580|             MORTGAGE|              5.0|        EDUCATION|         A|    14000|         6.03|          0|               0.29|                        N|                         2|    2|\n",
            "|        30|       130000|             MORTGAGE|             14.0|          VENTURE|         B|     7000|         9.91|          0|               0.05|                        N|                         9|    2|\n",
            "|        32|        89000|                 RENT|              0.0|          MEDICAL|         A|    12000|         8.94|          0|               0.13|                        N|                         6|    2|\n",
            "|        24|        55000|             MORTGAGE|              8.0|        EDUCATION|         B|     9600|         null|          0|               0.17|                        N|                         3|    2|\n",
            "|        23|       100000|             MORTGAGE|              7.0|        EDUCATION|         A|    15000|         7.88|          0|               0.15|                        N|                         4|    2|\n",
            "|        21|        36000|             MORTGAGE|              5.0|          MEDICAL|         B|     1000|        12.42|          0|               0.03|                        N|                         2|    2|\n",
            "|        26|       100000|             MORTGAGE|              7.0|DEBTCONSOLIDATION|         A|     7500|         8.32|          0|               0.07|                        N|                         3|    2|\n",
            "|        27|        84906|             MORTGAGE|             11.0|DEBTCONSOLIDATION|         A|     4500|         7.51|          0|               0.05|                        N|                        10|    2|\n",
            "|        22|        74000|             MORTGAGE|              6.0|          MEDICAL|         A|     2500|         6.62|          0|               0.03|                        N|                         3|    2|\n",
            "|        31|        83300|             MORTGAGE|              9.0|          MEDICAL|         D|    10000|         null|          1|                0.1|                        Y|                         5|    2|\n",
            "|        22|        57600|                  OWN|              6.0|          VENTURE|         A|     6500|         7.49|          0|               0.11|                        N|                         3|    2|\n",
            "|        24|         7800|                 RENT|              1.0|        EDUCATION|         B|     1000|        11.36|          0|               0.13|                        N|                         4|    2|\n",
            "+----------+-------------+---------------------+-----------------+-----------------+----------+---------+-------------+-----------+-------------------+-------------------------+--------------------------+-----+\n",
            "only showing top 20 rows\n",
            "\n"
          ]
        }
      ]
    },
    {
      "cell_type": "code",
      "source": [
        "df = df.dropDuplicates()"
      ],
      "metadata": {
        "id": "-rYXyE_ppygZ"
      },
      "execution_count": null,
      "outputs": []
    },
    {
      "cell_type": "code",
      "source": [
        "print(f\"Número de linhas depois: {df.count()}\")"
      ],
      "metadata": {
        "colab": {
          "base_uri": "https://localhost:8080/"
        },
        "id": "avscHNp5q7k2",
        "outputId": "4a4ce320-dfac-4ad8-e476-bfaa759b220b"
      },
      "execution_count": null,
      "outputs": [
        {
          "output_type": "stream",
          "name": "stdout",
          "text": [
            "Número de linhas depois: 32416\n"
          ]
        }
      ]
    },
    {
      "cell_type": "markdown",
      "source": [
        "## Valores Nulos"
      ],
      "metadata": {
        "id": "By6ANZLB5pi0"
      }
    },
    {
      "cell_type": "markdown",
      "source": [
        "- Colunas numéricas: preencher com a mediana"
      ],
      "metadata": {
        "id": "pOCdfs3Fp8-f"
      }
    },
    {
      "cell_type": "code",
      "source": [
        "# numeric_cols = [\n",
        "#     \"person_age\", \"person_income\", \"person_emp_length\",\n",
        "#     \"loan_amnt\", \"loan_int_rate\", \"loan_percent_income\",\n",
        "#     \"cb_person_cred_hist_length\"\n",
        "# ]\n"
      ],
      "metadata": {
        "id": "A-6iqwPgp960"
      },
      "execution_count": null,
      "outputs": []
    },
    {
      "cell_type": "code",
      "source": [
        "df.select([count(when(col(c).isNull(), c)).alias(c + \"_nulls\") for c in numeric_cols\n",
        "]).show()"
      ],
      "metadata": {
        "colab": {
          "base_uri": "https://localhost:8080/"
        },
        "id": "wp5kJcmvrG3l",
        "outputId": "ec3598b5-dff2-4d97-dfd4-951c8ceab5b7"
      },
      "execution_count": null,
      "outputs": [
        {
          "output_type": "stream",
          "name": "stdout",
          "text": [
            "+----------------+-------------------+-----------------------+---------------+-------------------+-------------------------+--------------------------------+\n",
            "|person_age_nulls|person_income_nulls|person_emp_length_nulls|loan_amnt_nulls|loan_int_rate_nulls|loan_percent_income_nulls|cb_person_cred_hist_length_nulls|\n",
            "+----------------+-------------------+-----------------------+---------------+-------------------+-------------------------+--------------------------------+\n",
            "|               0|                  0|                    887|              0|               3095|                        0|                               0|\n",
            "+----------------+-------------------+-----------------------+---------------+-------------------+-------------------------+--------------------------------+\n",
            "\n"
          ]
        }
      ]
    },
    {
      "cell_type": "code",
      "source": [
        "# Mostrar registros com nulos em colunas numéricas\n",
        "df.filter(\n",
        "    \" OR \".join([f\"{c} IS NULL\" for c in numeric_cols])\n",
        ").show(5)"
      ],
      "metadata": {
        "colab": {
          "base_uri": "https://localhost:8080/"
        },
        "id": "TEKQzOONr0ij",
        "outputId": "c716691c-ab53-4e51-e5f3-b162d8c2498b"
      },
      "execution_count": null,
      "outputs": [
        {
          "output_type": "stream",
          "name": "stdout",
          "text": [
            "+----------+-------------+---------------------+-----------------+-----------------+----------+---------+-------------+-----------+-------------------+-------------------------+--------------------------+\n",
            "|person_age|person_income|person_home_ownership|person_emp_length|      loan_intent|loan_grade|loan_amnt|loan_int_rate|loan_status|loan_percent_income|cb_person_default_on_file|cb_person_cred_hist_length|\n",
            "+----------+-------------+---------------------+-----------------+-----------------+----------+---------+-------------+-----------+-------------------+-------------------------+--------------------------+\n",
            "|        21|        19253|             MORTGAGE|             null|DEBTCONSOLIDATION|         A|     6250|         6.17|          1|               0.32|                        N|                         3|\n",
            "|        22|        50400|                 RENT|              3.0|          VENTURE|         B|     2000|         null|          0|               0.04|                        N|                         4|\n",
            "|        24|       135000|                 RENT|              8.0|         PERSONAL|         A|    13050|         null|          0|                0.1|                        N|                         3|\n",
            "|        21|        35550|                 RENT|              3.0|         PERSONAL|         C|     5000|         null|          0|               0.14|                        N|                         4|\n",
            "|        23|       120000|                 RENT|              2.0|        EDUCATION|         A|     5000|         null|          0|               0.04|                        N|                         4|\n",
            "+----------+-------------+---------------------+-----------------+-----------------+----------+---------+-------------+-----------+-------------------+-------------------------+--------------------------+\n",
            "only showing top 5 rows\n",
            "\n"
          ]
        }
      ]
    },
    {
      "cell_type": "code",
      "source": [
        "for c in numeric_cols:\n",
        "    median = df.approxQuantile(c, [0.5], 0.001)[0]\n",
        "    df = df.fillna({c: median})\n",
        "\n",
        "df.show()"
      ],
      "metadata": {
        "colab": {
          "base_uri": "https://localhost:8080/"
        },
        "id": "aIg-IT0prGZe",
        "outputId": "36eb5cce-6769-42ec-a81c-d365af8374c8"
      },
      "execution_count": null,
      "outputs": [
        {
          "output_type": "stream",
          "name": "stdout",
          "text": [
            "+----------+-------------+---------------------+-----------------+-----------------+----------+---------+-------------+-----------+-------------------+-------------------------+--------------------------+\n",
            "|person_age|person_income|person_home_ownership|person_emp_length|      loan_intent|loan_grade|loan_amnt|loan_int_rate|loan_status|loan_percent_income|cb_person_default_on_file|cb_person_cred_hist_length|\n",
            "+----------+-------------+---------------------+-----------------+-----------------+----------+---------+-------------+-----------+-------------------+-------------------------+--------------------------+\n",
            "|        24|        60000|                 RENT|              3.0|          VENTURE|         C|    22000|        14.26|          1|               0.37|                        Y|                         2|\n",
            "|        21|        19000|                  OWN|              5.0|          MEDICAL|         A|     6000|         8.49|          1|               0.32|                        N|                         3|\n",
            "|        21|        19253|             MORTGAGE|              4.0|DEBTCONSOLIDATION|         A|     6250|         6.17|          1|               0.32|                        N|                         3|\n",
            "|        22|        46000|                 RENT|              2.0|DEBTCONSOLIDATION|         D|    20000|         16.0|          1|               0.43|                        Y|                         4|\n",
            "|        26|       130000|                 RENT|             10.0|DEBTCONSOLIDATION|         C|    20000|        13.11|          0|               0.15|                        Y|                         4|\n",
            "|        26|       116004|                 RENT|              6.0|          VENTURE|         B|    18000|        11.83|          0|               0.16|                        N|                         4|\n",
            "|        26|        66300|                 RENT|              0.0|          MEDICAL|         D|    17000|        16.77|          1|               0.22|                        Y|                         3|\n",
            "|        23|        47000|                 RENT|              5.0|          VENTURE|         B|    16500|        10.62|          1|               0.35|                        N|                         3|\n",
            "|        22|        25000|                  OWN|              1.0|         PERSONAL|         A|    11100|         9.63|          0|               0.44|                        N|                         3|\n",
            "|        24|        32400|                 RENT|              0.0|          MEDICAL|         C|     1200|        13.11|          0|               0.04|                        Y|                         2|\n",
            "|        25|        51500|                 RENT|              5.0|          VENTURE|         C|     1325|        14.79|          0|               0.03|                        N|                         3|\n",
            "|        22|        28000|             MORTGAGE|              1.0|DEBTCONSOLIDATION|         B|    10750|        11.14|          0|               0.38|                        N|                         2|\n",
            "|        23|        22800|                 RENT|              3.0|         PERSONAL|         D|     1750|         15.7|          1|               0.08|                        Y|                         2|\n",
            "|        22|        50400|                 RENT|              3.0|          VENTURE|         B|     2000|        10.99|          0|               0.04|                        N|                         4|\n",
            "|        22|        75000|                 RENT|              6.0|        EDUCATION|         C|     2000|        13.43|          0|               0.03|                        N|                         3|\n",
            "|        24|       135000|                 RENT|              8.0|         PERSONAL|         A|    13050|        10.99|          0|                0.1|                        N|                         3|\n",
            "|        21|        31200|             MORTGAGE|              2.0|        EDUCATION|         D|     1000|        14.59|          0|               0.03|                        N|                         2|\n",
            "|        25|        24996|                 RENT|              8.0|          VENTURE|         C|     2500|        12.98|          0|                0.1|                        N|                         4|\n",
            "|        23|        32004|                  OWN|              0.0|        EDUCATION|         E|     9250|        17.19|          0|               0.29|                        N|                         4|\n",
            "|        23|        31200|                 RENT|              2.0|        EDUCATION|         B|     3000|        11.89|          0|                0.1|                        N|                         2|\n",
            "+----------+-------------+---------------------+-----------------+-----------------+----------+---------+-------------+-----------+-------------------+-------------------------+--------------------------+\n",
            "only showing top 20 rows\n",
            "\n"
          ]
        }
      ]
    },
    {
      "cell_type": "markdown",
      "source": [
        "- Colunas categóricas: preencher com \"Unknown\""
      ],
      "metadata": {
        "id": "pGw5hk0jr6Wz"
      }
    },
    {
      "cell_type": "code",
      "source": [
        "# categorical_cols = [\n",
        "#     \"person_home_ownership\", \"loan_intent\",\n",
        "#     \"loan_grade\", \"cb_person_default_on_file\"\n",
        "# ]\n",
        "df.select([\n",
        "    count(when(col(c).isNull(), c)).alias(c + \"_nulls\") for c in categorical_cols\n",
        "]).show()"
      ],
      "metadata": {
        "colab": {
          "base_uri": "https://localhost:8080/"
        },
        "id": "kM6xhycFqPgt",
        "outputId": "52e179d2-0694-4265-b45f-82e54e0d81a4"
      },
      "execution_count": null,
      "outputs": [
        {
          "output_type": "stream",
          "name": "stdout",
          "text": [
            "+---------------------------+-----------------+----------------+-------------------------------+\n",
            "|person_home_ownership_nulls|loan_intent_nulls|loan_grade_nulls|cb_person_default_on_file_nulls|\n",
            "+---------------------------+-----------------+----------------+-------------------------------+\n",
            "|                          0|                0|               0|                              0|\n",
            "+---------------------------+-----------------+----------------+-------------------------------+\n",
            "\n"
          ]
        }
      ]
    },
    {
      "cell_type": "code",
      "source": [
        "# Mostrar registros com nulos em colunas categóricas\n",
        "df.filter(\n",
        "    \" OR \".join([f\"{c} IS NULL\" for c in categorical_cols])\n",
        ").show(5)\n"
      ],
      "metadata": {
        "colab": {
          "base_uri": "https://localhost:8080/"
        },
        "id": "k-gu0DjqrwVi",
        "outputId": "94f68f72-ad0b-4490-eaf3-a09609abe94d"
      },
      "execution_count": null,
      "outputs": [
        {
          "output_type": "stream",
          "name": "stdout",
          "text": [
            "+----------+-------------+---------------------+-----------------+-----------+----------+---------+-------------+-----------+-------------------+-------------------------+--------------------------+\n",
            "|person_age|person_income|person_home_ownership|person_emp_length|loan_intent|loan_grade|loan_amnt|loan_int_rate|loan_status|loan_percent_income|cb_person_default_on_file|cb_person_cred_hist_length|\n",
            "+----------+-------------+---------------------+-----------------+-----------+----------+---------+-------------+-----------+-------------------+-------------------------+--------------------------+\n",
            "+----------+-------------+---------------------+-----------------+-----------+----------+---------+-------------+-----------+-------------------+-------------------------+--------------------------+\n",
            "\n"
          ]
        }
      ]
    },
    {
      "cell_type": "code",
      "source": [
        "df = df.fillna({c: \"Unknown\" for c in categorical_cols})"
      ],
      "metadata": {
        "id": "CRjJQb6Mrt5n"
      },
      "execution_count": null,
      "outputs": []
    },
    {
      "cell_type": "markdown",
      "source": [
        "## Outliers"
      ],
      "metadata": {
        "id": "t6Cxi4cYquJz"
      }
    },
    {
      "cell_type": "markdown",
      "source": [],
      "metadata": {
        "id": "7YLoS0IN1WeQ"
      }
    },
    {
      "cell_type": "code",
      "source": [
        "sample_pd = df.sample(fraction=0.1, seed=42).toPandas()\n",
        "\n",
        "import seaborn as sns\n",
        "import matplotlib.pyplot as plt\n",
        "\n",
        "numeric_cols = [\"person_age\", \"person_income\", \"loan_amnt\", \"loan_int_rate\"]\n",
        "\n",
        "for col in numeric_cols:\n",
        "    sns.histplot(sample_pd[col].dropna(), kde=True)\n",
        "    plt.title(f\"Distribuição: {col}\")\n",
        "    plt.show()\n"
      ],
      "metadata": {
        "colab": {
          "base_uri": "https://localhost:8080/",
          "height": 1000
        },
        "id": "6lRg8it_ngRC",
        "outputId": "ef1930cd-5fab-4d78-db86-3253368e99c6"
      },
      "execution_count": null,
      "outputs": [
        {
          "output_type": "display_data",
          "data": {
            "text/plain": [
              "<Figure size 640x480 with 1 Axes>"
            ],
            "image/png": "[encoded data removed]"
          },
          "metadata": {}
        },
        {
          "output_type": "display_data",
          "data": {
            "text/plain": [
              "<Figure size 640x480 with 1 Axes>"
            ],
            "image/png": "[encoded data removed]"
          },
          "metadata": {}
        },
        {
          "output_type": "display_data",
          "data": {
            "text/plain": [
              "<Figure size 640x480 with 1 Axes>"
            ],
            "image/png": "[encoded data removed]"
          },
          "metadata": {}
        },
        {
          "output_type": "display_data",
          "data": {
            "text/plain": [
              "<Figure size 640x480 with 1 Axes>"
            ],
            "image/png": "[encoded data removed]"
          },
          "metadata": {}
        }
      ]
    },
    {
      "cell_type": "code",
      "source": [
        "df.describe([\"person_age\", \"person_income\", \"loan_amnt\", \"loan_int_rate\"]).show()\n"
      ],
      "metadata": {
        "colab": {
          "base_uri": "https://localhost:8080/"
        },
        "id": "-jO1ivkdxILH",
        "outputId": "e5785f77-95ef-46f9-8f60-1ad7e17b8cb7"
      },
      "execution_count": null,
      "outputs": [
        {
          "output_type": "stream",
          "name": "stdout",
          "text": [
            "+-------+-----------------+-----------------+-----------------+------------------+\n",
            "|summary|       person_age|    person_income|        loan_amnt|     loan_int_rate|\n",
            "+-------+-----------------+-----------------+-----------------+------------------+\n",
            "|  count|            32416|            32416|            32416|             32416|\n",
            "|   mean|27.74700765054294|66091.64082551826|9593.845631786771|11.014661895359184|\n",
            "| stddev| 6.35409994731211|62015.58026889566|6322.730240861562|3.0830504659623936|\n",
            "|    min|               20|             4000|              500|              5.42|\n",
            "|    max|              144|          6000000|            35000|             23.22|\n",
            "+-------+-----------------+-----------------+-----------------+------------------+\n",
            "\n"
          ]
        }
      ]
    },
    {
      "cell_type": "markdown",
      "source": [
        "Idade deve ser entre 18 e 100"
      ],
      "metadata": {
        "id": "pgGqrpmWsFGE"
      }
    },
    {
      "cell_type": "code",
      "source": [
        "df.filter((col(\"person_age\") < 18) | (col(\"person_age\") > 100)).show()"
      ],
      "metadata": {
        "colab": {
          "base_uri": "https://localhost:8080/"
        },
        "id": "JZD1PLoysCBG",
        "outputId": "63387b69-9a48-4740-dd98-d7baee9392f3"
      },
      "execution_count": 134,
      "outputs": [
        {
          "output_type": "stream",
          "name": "stdout",
          "text": [
            "+----------+-------------+---------------------+-----------------+-----------+----------+---------+-------------+-----------+-------------------+-------------------------+--------------------------+\n",
            "|person_age|person_income|person_home_ownership|person_emp_length|loan_intent|loan_grade|loan_amnt|loan_int_rate|loan_status|loan_percent_income|cb_person_default_on_file|cb_person_cred_hist_length|\n",
            "+----------+-------------+---------------------+-----------------+-----------+----------+---------+-------------+-----------+-------------------+-------------------------+--------------------------+\n",
            "|       144|      6000000|             MORTGAGE|             12.0|   PERSONAL|         C|     5000|        12.73|          0|                0.0|                        N|                        25|\n",
            "|       123|        80004|                 RENT|              2.0|  EDUCATION|         B|    20400|        10.25|          0|               0.25|                        N|                         3|\n",
            "|       123|        78000|                 RENT|              7.0|    VENTURE|         B|    20000|        10.99|          0|               0.26|                        N|                         4|\n",
            "|       144|       250000|                 RENT|              4.0|    VENTURE|         C|     4800|        13.57|          0|               0.02|                        N|                         3|\n",
            "|       144|       200000|             MORTGAGE|              4.0|  EDUCATION|         B|     6000|        11.86|          0|               0.03|                        N|                         2|\n",
            "+----------+-------------+---------------------+-----------------+-----------+----------+---------+-------------+-----------+-------------------+-------------------------+--------------------------+\n",
            "\n"
          ]
        }
      ]
    },
    {
      "cell_type": "code",
      "source": [
        "df = df.filter((col(\"person_age\") >= 18) & (col(\"person_age\") <= 100))"
      ],
      "metadata": {
        "id": "H4sYkDMDsEdE"
      },
      "execution_count": null,
      "outputs": []
    },
    {
      "cell_type": "code",
      "source": [
        "df.filter((col(\"person_age\") < 18) | (col(\"person_age\") > 100)).show()"
      ],
      "metadata": {
        "id": "LjT2ULlGsUmd"
      },
      "execution_count": null,
      "outputs": []
    },
    {
      "cell_type": "markdown",
      "source": [
        "Renda deve ser > 0"
      ],
      "metadata": {
        "id": "nPgAgXLrsOWP"
      }
    },
    {
      "cell_type": "code",
      "source": [
        "df.filter(col(\"person_income\") <= 0).show()"
      ],
      "metadata": {
        "id": "iowiu-ZBsRxx"
      },
      "execution_count": null,
      "outputs": []
    },
    {
      "cell_type": "code",
      "source": [
        "df = df.filter(col(\"person_income\") > 0)"
      ],
      "metadata": {
        "id": "101LcKivsNlK"
      },
      "execution_count": null,
      "outputs": []
    },
    {
      "cell_type": "code",
      "source": [
        "df.filter(col(\"person_income\") <= 0).show()"
      ],
      "metadata": {
        "id": "n5ZvSc10sTri"
      },
      "execution_count": null,
      "outputs": []
    },
    {
      "cell_type": "markdown",
      "source": [
        "Taxa de juros deve ser positiva e menor que 100%"
      ],
      "metadata": {
        "id": "wQdf7wDOsYzR"
      }
    },
    {
      "cell_type": "code",
      "source": [
        "df.filter((col(\"loan_int_rate\") <= 0) | (col(\"loan_int_rate\") >= 100)).show()"
      ],
      "metadata": {
        "id": "CB7FQv_fseFU"
      },
      "execution_count": null,
      "outputs": []
    },
    {
      "cell_type": "code",
      "source": [
        "df = df.filter((col(\"loan_int_rate\") > 0) & (col(\"loan_int_rate\") < 100))"
      ],
      "metadata": {
        "id": "B9f3Fz6HsXEq"
      },
      "execution_count": null,
      "outputs": []
    },
    {
      "cell_type": "code",
      "source": [
        "df.filter((col(\"loan_int_rate\") <= 0) | (col(\"loan_int_rate\") >= 100)).show()"
      ],
      "metadata": {
        "id": "SFjJK8rxsfat"
      },
      "execution_count": null,
      "outputs": []
    },
    {
      "cell_type": "markdown",
      "source": [
        "loan_percent_income = proporção da renda mensal comprometida com o empréstimo.\n",
        "\n",
        "loan_percent_income = loan_amnt/\n",
        "person_income\n",
        "\n",
        "Se ela vale zero, isso indica que:\n",
        "\n",
        "- O valor do empréstimo (loan_amnt) é zero\n",
        "ou\n",
        "- A renda (person_income) é infinita (não é o caso), ou\n",
        "- Erro de cálculo ou inconsistência no dado\n",
        "\n",
        "\n",
        "\n",
        "Percentual de renda comprometida com o empréstimo menor que 1 (100%)"
      ],
      "metadata": {
        "id": "DE7Awy86sjng"
      }
    },
    {
      "cell_type": "code",
      "source": [
        "df.filter((col(\"loan_percent_income\") <= 0) | (col(\"loan_percent_income\") > 1)).show()"
      ],
      "metadata": {
        "id": "sEmmR7lFsmnF"
      },
      "execution_count": null,
      "outputs": []
    },
    {
      "cell_type": "code",
      "source": [
        "df = df.withColumn(\n",
        "    \"loan_percent_income\",\n",
        "    when(\n",
        "        col(\"loan_percent_income\") == 0,\n",
        "        (col(\"loan_amnt\") / col(\"person_income\")).cast(\"double\")\n",
        "    ).otherwise(col(\"loan_percent_income\"))\n",
        ")"
      ],
      "metadata": {
        "id": "471frErrsoMM"
      },
      "execution_count": null,
      "outputs": []
    },
    {
      "cell_type": "code",
      "source": [
        "df.filter(col(\"loan_percent_income\") == 0).show()\n"
      ],
      "metadata": {
        "id": "GZ2S0ER6uZEJ"
      },
      "execution_count": null,
      "outputs": []
    },
    {
      "cell_type": "markdown",
      "source": [
        "Tempo de crédito\n",
        "A coluna cb_person_cred_hist_length representa o número de anos de histórico de crédito que uma pessoa tem com a agência de crédito (Credit Bureau). É uma medida de maturidade financeira ou experiência de crédito do indivíduo.\n",
        "Alguém com cb_person_cred_hist_length = 0 está começando agora ou não tem histórico registrado.\n",
        "\n",
        "Ter um longo histórico geralmente aumenta a confiabilidade do cliente, pois fornece mais dados para prever seu comportamento financeiro. Em contraste, um histórico curto pode representar maior risco ou incerteza para instituições de crédito."
      ],
      "metadata": {
        "id": "Slt0CQpDufC2"
      }
    },
    {
      "cell_type": "code",
      "source": [
        "df.filter(\n",
        "    (col(\"cb_person_cred_hist_length\").isNull()) |\n",
        "    (col(\"cb_person_cred_hist_length\") < 1)\n",
        ").show()\n",
        "\n",
        "#isNull(): identifica registros onde o campo está ausente.\n",
        "\n",
        "#< 1: identifica registros com valor igual a 0, ou negativo (caso existam)."
      ],
      "metadata": {
        "id": "DVJs2SWRueiO"
      },
      "execution_count": null,
      "outputs": []
    },
    {
      "cell_type": "code",
      "source": [
        "df = df.filter(\n",
        "    (col(\"cb_person_cred_hist_length\").isNotNull()) &\n",
        "    (col(\"cb_person_cred_hist_length\") >= 1)\n",
        ")"
      ],
      "metadata": {
        "id": "j4DQPqwsva4C"
      },
      "execution_count": null,
      "outputs": []
    },
    {
      "cell_type": "markdown",
      "source": [
        "Rótulo loan_status:\n",
        "Loan status (0 -bom is non default 1 - ruim is default)\n",
        "\n"
      ],
      "metadata": {
        "id": "WGpyblaRvgoT"
      }
    },
    {
      "cell_type": "code",
      "source": [
        "df.select(\"loan_status\").distinct().show()"
      ],
      "metadata": {
        "id": "3dc4lJEGvgQw"
      },
      "execution_count": null,
      "outputs": []
    },
    {
      "cell_type": "code",
      "source": [
        "df = df.filter((col(\"loan_status\") == 0) | (col(\"loan_status\") == 1))"
      ],
      "metadata": {
        "id": "-BGrHJ8xpwIt"
      },
      "execution_count": null,
      "outputs": []
    },
    {
      "cell_type": "markdown",
      "source": [
        "Valores nulos"
      ],
      "metadata": {
        "id": "v5Kcm6sIw0w5"
      }
    },
    {
      "cell_type": "code",
      "source": [
        "df.select([\n",
        "    count(when(col(c).isNull(), c)).alias(c + \"_nulls\") for c in df.columns\n",
        "]).show()"
      ],
      "metadata": {
        "id": "fOJKOeSXw0ND"
      },
      "execution_count": null,
      "outputs": []
    },
    {
      "cell_type": "markdown",
      "source": [
        "Analisar colunas categóricas com valores inválidos ou incompletos"
      ],
      "metadata": {
        "id": "aGGqDcEcw6-S"
      }
    },
    {
      "cell_type": "code",
      "source": [
        "\n",
        "for col_name in categorical_cols:\n",
        "    print(f\"Valores únicos da coluna {col_name}:\")\n",
        "    df.select(trim(col(col_name)).alias(col_name)).distinct().show()"
      ],
      "metadata": {
        "id": "maADSODiw9I0"
      },
      "execution_count": null,
      "outputs": []
    },
    {
      "cell_type": "code",
      "source": [
        "import pyspark.sql.functions as F\n",
        "\n",
        "# Estatísticas descritivas\n",
        "df.select(\n",
        "    F.count(\"person_income\").alias(\"count\"),\n",
        "    F.mean(\"person_income\").alias(\"mean\"),\n",
        "    F.expr(\"percentile(person_income, array(0.5))\")[0].alias(\"median\"),\n",
        "    F.stddev(\"person_income\").alias(\"stddev\"),\n",
        "    F.min(\"person_income\").alias(\"min\"),\n",
        "    F.expr(\"percentile(person_income, array(0.25))\")[0].alias(\"p25\"),\n",
        "    F.expr(\"percentile(person_income, array(0.75))\")[0].alias(\"p75\"),\n",
        "    F.expr(\"percentile(person_income, array(0.95))\")[0].alias(\"p95\"),\n",
        "    F.expr(\"percentile(person_income, array(0.99))\")[0].alias(\"p99\"),\n",
        "    F.max(\"person_income\").alias(\"max\")\n",
        ").show(truncate=False)\n"
      ],
      "metadata": {
        "id": "E9-1vjQt0sm8"
      },
      "execution_count": null,
      "outputs": []
    },
    {
      "cell_type": "code",
      "source": [
        "df.filter(col(\"person_income\") > 300000).count()\n"
      ],
      "metadata": {
        "id": "45wD2CPj0j6w"
      },
      "execution_count": null,
      "outputs": []
    },
    {
      "cell_type": "markdown",
      "source": [
        "Apenas 136 registros (de um total de mais de 32.000) possuem person_income > 300.000.\n",
        "\n",
        "Eles representam menos de 0,5% do total, o que é estatisticamente irrelevante para o modelo, mas podem causar distorções se não forem removidos."
      ],
      "metadata": {
        "id": "7dt-hN0l00iD"
      }
    },
    {
      "cell_type": "code",
      "source": [
        "df.filter(col(\"person_income\") > 300000).show()\n"
      ],
      "metadata": {
        "id": "r0LQGImQ0an3"
      },
      "execution_count": null,
      "outputs": []
    },
    {
      "cell_type": "code",
      "source": [
        "df = df.filter(col(\"person_income\") <= 300000)"
      ],
      "metadata": {
        "id": "9LL4tv-j03E1"
      },
      "execution_count": null,
      "outputs": []
    },
    {
      "cell_type": "markdown",
      "source": [
        "## SALVAR NA CLEAN LAYER\n",
        "Dados limpos, com valores ausentes tratados, outliers removidos e tipos corrigidos.\n",
        "\n",
        "Ainda não houve transformação de variáveis categóricas ou escala.\n",
        "\n",
        "Ideal salvar neste ponto o resultado da limpeza para reuso."
      ],
      "metadata": {
        "id": "efBERW6x2nUX"
      }
    },
    {
      "cell_type": "code",
      "source": [
        "# df_clean_path = \"s3a://credit-risk/clean/credit_risk_cleaned.parquet\"\n",
        "\n",
        "# df.write.mode(\"overwrite\").parquet(df_clean_path)"
      ],
      "metadata": {
        "id": "K0rslGYy2rG7"
      },
      "execution_count": null,
      "outputs": []
    },
    {
      "cell_type": "markdown",
      "source": [
        "#Feature Engineering\n",
        "\n",
        "Feature engineering completo: indexação, encoding, normalização, VectorAssembler, etc.\n",
        "\n",
        "Serve de base para algoritmos de ML."
      ],
      "metadata": {
        "id": "njBPfC8g13X6"
      }
    },
    {
      "cell_type": "markdown",
      "source": [
        "## 2. Definir colunas categóricas e numéricas\n"
      ],
      "metadata": {
        "id": "KiHOsODN3zLy"
      }
    },
    {
      "cell_type": "code",
      "source": [
        "categorical_cols = [c for c, t in df.dtypes if t == \"string\"]\n",
        "numeric_cols = [c for c, t in df.dtypes if t in [\"double\", \"int\"]]"
      ],
      "metadata": {
        "id": "D0PSu0Z5Ah1n"
      },
      "execution_count": 111,
      "outputs": []
    },
    {
      "cell_type": "code",
      "source": [
        "# categorical_cols = [\"person_home_ownership\", \"loan_intent\", \"loan_grade\", \"cb_person_default_on_file\"]\n",
        "# numeric_cols = [\"person_age\", \"person_income\", \"person_emp_length\", \"loan_amnt\",\n",
        "#                 \"loan_int_rate\", \"loan_percent_income\", \"cb_person_cred_hist_length\"]"
      ],
      "metadata": {
        "id": "-P8RuRne31cm"
      },
      "execution_count": null,
      "outputs": []
    },
    {
      "cell_type": "markdown",
      "source": [
        "Antes de aplicar os algoritmos de clusterização e predição, precisamos transformar os dados para que:\n",
        "\n",
        "Todas as variáveis estejam em formato numérico, pois os algoritmos de machine learning não trabalham com strings diretamente;\n",
        "\n",
        "Os dados estejam normalizados ou padronizados (especialmente os numéricos) para garantir desempenho adequado do modelo."
      ],
      "metadata": {
        "id": "mjODbn_F19df"
      }
    },
    {
      "cell_type": "markdown",
      "source": [
        "## 3. Preparar indexação e codificação de colunas categóricas\n"
      ],
      "metadata": {
        "id": "9Am3jhnH32RY"
      }
    },
    {
      "cell_type": "markdown",
      "source": [
        "StringIndexer:\tTransforma strings categóricas em números (ex: \"RENT\" → 0, \"OWN\" → 1...)"
      ],
      "metadata": {
        "id": "EQGNIP1Z42ev"
      }
    },
    {
      "cell_type": "code",
      "source": [
        "indexers = [\n",
        "    StringIndexer(inputCol=c, outputCol=c + \"_indexed\", handleInvalid=\"keep\")\n",
        "    for c in categorical_cols\n",
        "]"
      ],
      "metadata": {
        "id": "ii2_JgUR334L"
      },
      "execution_count": 112,
      "outputs": []
    },
    {
      "cell_type": "code",
      "source": [
        "# numeric_cols = [c for c, t in df.dtypes if t in [\"double\", \"int\"]]\n"
      ],
      "metadata": {
        "id": "FlWQnf5FAuYR"
      },
      "execution_count": 110,
      "outputs": []
    },
    {
      "cell_type": "code",
      "source": [
        "pipeline_indexers = Pipeline(stages=indexers)\n",
        "df_indexed = pipeline_indexers.fit(df).transform(df)\n",
        "df_indexed.select(categorical_cols + [c + \"_indexed\" for c in categorical_cols]).show(5)\n"
      ],
      "metadata": {
        "colab": {
          "base_uri": "https://localhost:8080/"
        },
        "id": "nYTIuZ0F56ZU",
        "outputId": "fea20c63-fc55-469d-e962-480a9ae8be40"
      },
      "execution_count": 113,
      "outputs": [
        {
          "output_type": "stream",
          "name": "stdout",
          "text": [
            "+---------------------+-----------------+----------+-------------------------+-----------------------------+-------------------+------------------+---------------------------------+\n",
            "|person_home_ownership|      loan_intent|loan_grade|cb_person_default_on_file|person_home_ownership_indexed|loan_intent_indexed|loan_grade_indexed|cb_person_default_on_file_indexed|\n",
            "+---------------------+-----------------+----------+-------------------------+-----------------------------+-------------------+------------------+---------------------------------+\n",
            "|                 RENT|          VENTURE|         C|                        Y|                          0.0|                2.0|               2.0|                              1.0|\n",
            "|                  OWN|          MEDICAL|         A|                        N|                          2.0|                1.0|               0.0|                              0.0|\n",
            "|             MORTGAGE|DEBTCONSOLIDATION|         A|                        N|                          1.0|                4.0|               0.0|                              0.0|\n",
            "|                 RENT|DEBTCONSOLIDATION|         D|                        Y|                          0.0|                4.0|               3.0|                              1.0|\n",
            "|                 RENT|DEBTCONSOLIDATION|         C|                        Y|                          0.0|                4.0|               2.0|                              1.0|\n",
            "+---------------------+-----------------+----------+-------------------------+-----------------------------+-------------------+------------------+---------------------------------+\n",
            "only showing top 5 rows\n",
            "\n"
          ]
        }
      ]
    },
    {
      "cell_type": "code",
      "source": [
        "# Opcional: OneHotEncoding (pode ser útil para algoritmos lineares, mas pode ser removido em RandomForest)\n",
        "# Irei apenas indexar para reduzir complexidade e deixar o modelo mais leve\n",
        "# Mas para uso de OneHotEncoder:\n",
        "# encoders = [\n",
        "#     OneHotEncoder(inputCol=col_name + \"_indexed\", outputCol=col_name + \"_ohe\")\n",
        "#     for col_name in categorical_cols\n",
        "# ]\n",
        "\n"
      ],
      "metadata": {
        "id": "dVoSU2RA36Oq"
      },
      "execution_count": null,
      "outputs": []
    },
    {
      "cell_type": "markdown",
      "source": [
        "## 4. Escalar colunas numéricas (normalização: média = 0, desvio = 1)"
      ],
      "metadata": {
        "id": "QlF_rpsb4C8r"
      }
    },
    {
      "cell_type": "markdown",
      "source": [
        "* StandardScaler:\tPadroniza as variáveis numéricas para mesma escala\n",
        "* VectorAssembler:\tJunta as features em um vetor único para os modelos"
      ],
      "metadata": {
        "id": "ztQCiZHC45Wl"
      }
    },
    {
      "cell_type": "code",
      "source": [
        "assembler_numeric = VectorAssembler(\n",
        "    inputCols=numeric_cols,\n",
        "    outputCol=\"numeric_features_assembled\"\n",
        ")"
      ],
      "metadata": {
        "id": "ks9RTfwK4Bo9"
      },
      "execution_count": 114,
      "outputs": []
    },
    {
      "cell_type": "code",
      "source": [
        "df_numeric_assembled = assembler_numeric.transform(df_indexed)\n",
        "df_numeric_assembled.select(numeric_cols + [\"numeric_features_assembled\"]).show(5, truncate=False)"
      ],
      "metadata": {
        "colab": {
          "base_uri": "https://localhost:8080/"
        },
        "id": "niugspn_5_1m",
        "outputId": "78aad895-7c41-47f0-90f2-b14de574d240"
      },
      "execution_count": 115,
      "outputs": [
        {
          "output_type": "stream",
          "name": "stdout",
          "text": [
            "+----------+-------------+-----------------+---------+-------------+-----------+-------------------+--------------------------+-----------------------------------------------+\n",
            "|person_age|person_income|person_emp_length|loan_amnt|loan_int_rate|loan_status|loan_percent_income|cb_person_cred_hist_length|numeric_features_assembled                     |\n",
            "+----------+-------------+-----------------+---------+-------------+-----------+-------------------+--------------------------+-----------------------------------------------+\n",
            "|24        |60000        |3.0              |22000    |14.26        |1          |0.37               |2                         |[24.0,60000.0,3.0,22000.0,14.26,1.0,0.37,2.0]  |\n",
            "|21        |19000        |5.0              |6000     |8.49         |1          |0.32               |3                         |[21.0,19000.0,5.0,6000.0,8.49,1.0,0.32,3.0]    |\n",
            "|21        |19253        |4.0              |6250     |6.17         |1          |0.32               |3                         |[21.0,19253.0,4.0,6250.0,6.17,1.0,0.32,3.0]    |\n",
            "|22        |46000        |2.0              |20000    |16.0         |1          |0.43               |4                         |[22.0,46000.0,2.0,20000.0,16.0,1.0,0.43,4.0]   |\n",
            "|26        |130000       |10.0             |20000    |13.11        |0          |0.15               |4                         |[26.0,130000.0,10.0,20000.0,13.11,0.0,0.15,4.0]|\n",
            "+----------+-------------+-----------------+---------+-------------+-----------+-------------------+--------------------------+-----------------------------------------------+\n",
            "only showing top 5 rows\n",
            "\n"
          ]
        }
      ]
    },
    {
      "cell_type": "code",
      "source": [
        "scaler = StandardScaler(\n",
        "    inputCol=\"numeric_features_assembled\",\n",
        "    outputCol=\"numeric_features_scaled\",\n",
        "    withMean=True,\n",
        "    withStd=True\n",
        ")"
      ],
      "metadata": {
        "id": "5R-t9lfd4ICs"
      },
      "execution_count": 116,
      "outputs": []
    },
    {
      "cell_type": "code",
      "source": [
        "scaler_model = scaler.fit(df_numeric_assembled)\n",
        "df_scaled = scaler_model.transform(df_numeric_assembled)\n",
        "df_scaled.select(\"numeric_features_assembled\", \"numeric_features_scaled\").show(5, truncate=False)"
      ],
      "metadata": {
        "colab": {
          "base_uri": "https://localhost:8080/"
        },
        "id": "tEBtfAq86D2W",
        "outputId": "40ea848c-3a77-4887-b322-924eaa17bbcc"
      },
      "execution_count": 117,
      "outputs": [
        {
          "output_type": "stream",
          "name": "stdout",
          "text": [
            "+-----------------------------------------------+----------------------------------------------------------------------------------------------------------------------------------------------------------------+\n",
            "|numeric_features_assembled                     |numeric_features_scaled                                                                                                                                         |\n",
            "+-----------------------------------------------+----------------------------------------------------------------------------------------------------------------------------------------------------------------+\n",
            "|[24.0,60000.0,3.0,22000.0,14.26,1.0,0.37,2.0]  |[-0.5896991991962687,-0.09822758731120795,-0.43244539542089866,1.9621514591966276,1.0526386578711433,1.8901344082618188,1.870109849035227,-0.9389673300869897]  |\n",
            "|[21.0,19000.0,5.0,6000.0,8.49,1.0,0.32,3.0]    |[-1.0618353042112756,-0.7593517729146737,0.05650298051087537,-0.5684009114545313,-0.8188843884435908,1.8901344082618188,1.4019975351997234,-0.6926030721762416] |\n",
            "|[21.0,19253.0,4.0,6250.0,6.17,1.0,0.32,3.0]    |[-1.0618353042112756,-0.7552721529400962,-0.18797120745501164,-0.528861030663107,-1.57138585593929,1.8901344082618188,1.4019975351997234,-0.6926030721762416]   |\n",
            "|[22.0,46000.0,2.0,20000.0,16.0,1.0,0.43,4.0]   |[-0.9044566025396066,-0.3239773092245865,-0.6769195833867857,1.6458324128652326,1.6170147584929175,1.8901344082618188,2.431844625637831,-0.44623881426549356]   |\n",
            "|[26.0,130000.0,10.0,20000.0,13.11,0.0,0.15,4.0]|[-0.27494179585293077,1.0305210222556846,1.2788739203403106,1.6458324128652326,0.6796314649314648,-0.5290465834946119,-0.18958433184098936,-0.44623881426549356]|\n",
            "+-----------------------------------------------+----------------------------------------------------------------------------------------------------------------------------------------------------------------+\n",
            "only showing top 5 rows\n",
            "\n"
          ]
        }
      ]
    },
    {
      "cell_type": "markdown",
      "source": [
        "## 5. Combinar features finais (categóricas indexadas + numéricas escaladas)\n"
      ],
      "metadata": {
        "id": "S1PBGKPw4NxN"
      }
    },
    {
      "cell_type": "code",
      "source": [
        "final_feature_cols = [c + \"_indexed\" for c in categorical_cols] + [\"numeric_features_scaled\"]\n",
        "\n",
        "final_assembler = VectorAssembler(\n",
        "    inputCols=final_feature_cols,\n",
        "    outputCol=\"features\"\n",
        ")"
      ],
      "metadata": {
        "id": "IkToVKOH4NPz"
      },
      "execution_count": 119,
      "outputs": []
    },
    {
      "cell_type": "code",
      "source": [
        "df_final = final_assembler.transform(df_scaled)\n",
        "\n",
        "df_final.select(\"features\", \"loan_status\").show(5, truncate=False)"
      ],
      "metadata": {
        "colab": {
          "base_uri": "https://localhost:8080/"
        },
        "id": "TSNJujML6L-A",
        "outputId": "22cd1131-468d-4f47-ef75-54baae89d27c"
      },
      "execution_count": 120,
      "outputs": [
        {
          "output_type": "stream",
          "name": "stdout",
          "text": [
            "+--------------------------------------------------------------------------------------------------------------------------------------------------------------------------------+-----------+\n",
            "|features                                                                                                                                                                        |loan_status|\n",
            "+--------------------------------------------------------------------------------------------------------------------------------------------------------------------------------+-----------+\n",
            "|[0.0,2.0,2.0,1.0,-0.5896991991962687,-0.09822758731120795,-0.43244539542089866,1.9621514591966276,1.0526386578711433,1.8901344082618188,1.870109849035227,-0.9389673300869897]  |1          |\n",
            "|[2.0,1.0,0.0,0.0,-1.0618353042112756,-0.7593517729146737,0.05650298051087537,-0.5684009114545313,-0.8188843884435908,1.8901344082618188,1.4019975351997234,-0.6926030721762416] |1          |\n",
            "|[1.0,4.0,0.0,0.0,-1.0618353042112756,-0.7552721529400962,-0.18797120745501164,-0.528861030663107,-1.57138585593929,1.8901344082618188,1.4019975351997234,-0.6926030721762416]   |1          |\n",
            "|[0.0,4.0,3.0,1.0,-0.9044566025396066,-0.3239773092245865,-0.6769195833867857,1.6458324128652326,1.6170147584929175,1.8901344082618188,2.431844625637831,-0.44623881426549356]   |1          |\n",
            "|[0.0,4.0,2.0,1.0,-0.27494179585293077,1.0305210222556846,1.2788739203403106,1.6458324128652326,0.6796314649314648,-0.5290465834946119,-0.18958433184098936,-0.44623881426549356]|0          |\n",
            "+--------------------------------------------------------------------------------------------------------------------------------------------------------------------------------+-----------+\n",
            "only showing top 5 rows\n",
            "\n"
          ]
        }
      ]
    },
    {
      "cell_type": "markdown",
      "source": [
        "## 6.Construir pipeline completo\n"
      ],
      "metadata": {
        "id": "OEejAZMm4Rn_"
      }
    },
    {
      "cell_type": "markdown",
      "source": [
        "Pipeline:\tAutomatiza o processo acima com um fit/transform\n",
        "loan_status\tUsado como label para algoritmos supervisionados"
      ],
      "metadata": {
        "id": "l8CSHcpB5Cns"
      }
    },
    {
      "cell_type": "code",
      "source": [
        "pipeline = Pipeline(stages=indexers + [assembler_numeric, scaler, final_assembler])"
      ],
      "metadata": {
        "id": "9racT_6f4SQc"
      },
      "execution_count": 121,
      "outputs": []
    },
    {
      "cell_type": "code",
      "source": [
        "print(pipeline.getStages())"
      ],
      "metadata": {
        "colab": {
          "base_uri": "https://localhost:8080/"
        },
        "id": "8Vc9xRUZ6QC4",
        "outputId": "319aa4c5-3b6e-4691-9189-69405429cd4c"
      },
      "execution_count": 122,
      "outputs": [
        {
          "output_type": "stream",
          "name": "stdout",
          "text": [
            "[StringIndexer_69f61794b2ad, StringIndexer_e29016c9d8e1, StringIndexer_02cac43f6e9b, StringIndexer_f5ffc77aaffc, VectorAssembler_b52b75b50958, StandardScaler_d7c6be4db582, VectorAssembler_807b8af4ff9a]\n"
          ]
        }
      ]
    },
    {
      "cell_type": "markdown",
      "source": [
        "## 7. Treinar e transformar os dados\n"
      ],
      "metadata": {
        "id": "LiWmjmRy4XnN"
      }
    },
    {
      "cell_type": "code",
      "source": [
        "pipeline_model = pipeline.fit(df)\n",
        "df_enriched = pipeline_model.transform(df)"
      ],
      "metadata": {
        "id": "dBiZRHxQ4XJK"
      },
      "execution_count": 123,
      "outputs": []
    },
    {
      "cell_type": "markdown",
      "source": [
        "# 8. Selecionar apenas o que importa para ML\n"
      ],
      "metadata": {
        "id": "sbi7Q6go4git"
      }
    },
    {
      "cell_type": "markdown",
      "source": [
        "loan_status: Usado como label para algoritmos supervisionados"
      ],
      "metadata": {
        "id": "ouZk7xFL5HvA"
      }
    },
    {
      "cell_type": "code",
      "source": [
        "df_enriched.select(\"features\", \"loan_status\", *categorical_cols, *numeric_cols).show(5, truncate=False)"
      ],
      "metadata": {
        "id": "gBbxT4144fSM",
        "colab": {
          "base_uri": "https://localhost:8080/"
        },
        "outputId": "7bb2b881-6a4a-4358-d2bc-c0f2fd2073d9"
      },
      "execution_count": 125,
      "outputs": [
        {
          "output_type": "stream",
          "name": "stdout",
          "text": [
            "+--------------------------------------------------------------------------------------------------------------------------------------------------------------------------------+-----------+---------------------+-----------------+----------+-------------------------+----------+-------------+-----------------+---------+-------------+-----------+-------------------+--------------------------+\n",
            "|features                                                                                                                                                                        |loan_status|person_home_ownership|loan_intent      |loan_grade|cb_person_default_on_file|person_age|person_income|person_emp_length|loan_amnt|loan_int_rate|loan_status|loan_percent_income|cb_person_cred_hist_length|\n",
            "+--------------------------------------------------------------------------------------------------------------------------------------------------------------------------------+-----------+---------------------+-----------------+----------+-------------------------+----------+-------------+-----------------+---------+-------------+-----------+-------------------+--------------------------+\n",
            "|[0.0,2.0,2.0,1.0,-0.5896991991962687,-0.09822758731120795,-0.43244539542089866,1.9621514591966276,1.0526386578711433,1.8901344082618188,1.870109849035227,-0.9389673300869897]  |1          |RENT                 |VENTURE          |C         |Y                        |24        |60000        |3.0              |22000    |14.26        |1          |0.37               |2                         |\n",
            "|[2.0,1.0,0.0,0.0,-1.0618353042112756,-0.7593517729146737,0.05650298051087537,-0.5684009114545313,-0.8188843884435908,1.8901344082618188,1.4019975351997234,-0.6926030721762416] |1          |OWN                  |MEDICAL          |A         |N                        |21        |19000        |5.0              |6000     |8.49         |1          |0.32               |3                         |\n",
            "|[1.0,4.0,0.0,0.0,-1.0618353042112756,-0.7552721529400962,-0.18797120745501164,-0.528861030663107,-1.57138585593929,1.8901344082618188,1.4019975351997234,-0.6926030721762416]   |1          |MORTGAGE             |DEBTCONSOLIDATION|A         |N                        |21        |19253        |4.0              |6250     |6.17         |1          |0.32               |3                         |\n",
            "|[0.0,4.0,3.0,1.0,-0.9044566025396066,-0.3239773092245865,-0.6769195833867857,1.6458324128652326,1.6170147584929175,1.8901344082618188,2.431844625637831,-0.44623881426549356]   |1          |RENT                 |DEBTCONSOLIDATION|D         |Y                        |22        |46000        |2.0              |20000    |16.0         |1          |0.43               |4                         |\n",
            "|[0.0,4.0,2.0,1.0,-0.27494179585293077,1.0305210222556846,1.2788739203403106,1.6458324128652326,0.6796314649314648,-0.5290465834946119,-0.18958433184098936,-0.44623881426549356]|0          |RENT                 |DEBTCONSOLIDATION|C         |Y                        |26        |130000       |10.0             |20000    |13.11        |0          |0.15               |4                         |\n",
            "+--------------------------------------------------------------------------------------------------------------------------------------------------------------------------------+-----------+---------------------+-----------------+----------+-------------------------+----------+-------------+-----------------+---------+-------------+-----------+-------------------+--------------------------+\n",
            "only showing top 5 rows\n",
            "\n"
          ]
        }
      ]
    },
    {
      "cell_type": "code",
      "source": [
        "df_enriched.show()"
      ],
      "metadata": {
        "colab": {
          "base_uri": "https://localhost:8080/"
        },
        "id": "x1JNG_UD5KOS",
        "outputId": "e6f8a1a9-d82e-4559-d1dd-95642c79ce47"
      },
      "execution_count": 126,
      "outputs": [
        {
          "output_type": "stream",
          "name": "stdout",
          "text": [
            "+----------+-------------+---------------------+-----------------+-----------------+----------+---------+-------------+-----------+-------------------+-------------------------+--------------------------+-----------------------------+-------------------+------------------+---------------------------------+--------------------------+-----------------------+--------------------+\n",
            "|person_age|person_income|person_home_ownership|person_emp_length|      loan_intent|loan_grade|loan_amnt|loan_int_rate|loan_status|loan_percent_income|cb_person_default_on_file|cb_person_cred_hist_length|person_home_ownership_indexed|loan_intent_indexed|loan_grade_indexed|cb_person_default_on_file_indexed|numeric_features_assembled|numeric_features_scaled|            features|\n",
            "+----------+-------------+---------------------+-----------------+-----------------+----------+---------+-------------+-----------+-------------------+-------------------------+--------------------------+-----------------------------+-------------------+------------------+---------------------------------+--------------------------+-----------------------+--------------------+\n",
            "|        24|        60000|                 RENT|              3.0|          VENTURE|         C|    22000|        14.26|          1|               0.37|                        Y|                         2|                          0.0|                2.0|               2.0|                              1.0|      [24.0,60000.0,3.0...|   [-0.5896991991962...|[0.0,2.0,2.0,1.0,...|\n",
            "|        21|        19000|                  OWN|              5.0|          MEDICAL|         A|     6000|         8.49|          1|               0.32|                        N|                         3|                          2.0|                1.0|               0.0|                              0.0|      [21.0,19000.0,5.0...|   [-1.0618353042112...|[2.0,1.0,0.0,0.0,...|\n",
            "|        21|        19253|             MORTGAGE|              4.0|DEBTCONSOLIDATION|         A|     6250|         6.17|          1|               0.32|                        N|                         3|                          1.0|                4.0|               0.0|                              0.0|      [21.0,19253.0,4.0...|   [-1.0618353042112...|[1.0,4.0,0.0,0.0,...|\n",
            "|        22|        46000|                 RENT|              2.0|DEBTCONSOLIDATION|         D|    20000|         16.0|          1|               0.43|                        Y|                         4|                          0.0|                4.0|               3.0|                              1.0|      [22.0,46000.0,2.0...|   [-0.9044566025396...|[0.0,4.0,3.0,1.0,...|\n",
            "|        26|       130000|                 RENT|             10.0|DEBTCONSOLIDATION|         C|    20000|        13.11|          0|               0.15|                        Y|                         4|                          0.0|                4.0|               2.0|                              1.0|      [26.0,130000.0,10...|   [-0.2749417958529...|[0.0,4.0,2.0,1.0,...|\n",
            "|        26|       116004|                 RENT|              6.0|          VENTURE|         B|    18000|        11.83|          0|               0.16|                        N|                         4|                          0.0|                2.0|               1.0|                              0.0|      [26.0,116004.0,6....|   [-0.2749417958529...|[0.0,2.0,1.0,0.0,...|\n",
            "|        26|        66300|                 RENT|              0.0|          MEDICAL|         D|    17000|        16.77|          1|               0.22|                        Y|                         3|                          0.0|                1.0|               3.0|                              1.0|      [26.0,66300.0,0.0...|   [-0.2749417958529...|[0.0,1.0,3.0,1.0,...|\n",
            "|        23|        47000|                 RENT|              5.0|          VENTURE|         B|    16500|        10.62|          1|               0.35|                        N|                         3|                          0.0|                2.0|               1.0|                              0.0|      [23.0,47000.0,5.0...|   [-0.7470779008679...|[0.0,2.0,1.0,0.0,...|\n",
            "|        22|        25000|                  OWN|              1.0|         PERSONAL|         A|    11100|         9.63|          0|               0.44|                        N|                         3|                          2.0|                3.0|               0.0|                              0.0|      [22.0,25000.0,1.0...|   [-0.9044566025396...|[2.0,3.0,0.0,0.0,...|\n",
            "|        24|        32400|                 RENT|              0.0|          MEDICAL|         C|     1200|        13.11|          0|               0.04|                        Y|                         2|                          0.0|                1.0|               2.0|                              1.0|      [24.0,32400.0,0.0...|   [-0.5896991991962...|[0.0,1.0,2.0,1.0,...|\n",
            "|        25|        51500|                 RENT|              5.0|          VENTURE|         C|     1325|        14.79|          0|               0.03|                        N|                         3|                          0.0|                2.0|               2.0|                              0.0|      [25.0,51500.0,5.0...|   [-0.4323204975245...|[0.0,2.0,2.0,0.0,...|\n",
            "|        22|        28000|             MORTGAGE|              1.0|DEBTCONSOLIDATION|         B|    10750|        11.14|          0|               0.38|                        N|                         2|                          1.0|                4.0|               1.0|                              0.0|      [22.0,28000.0,1.0...|   [-0.9044566025396...|[1.0,4.0,1.0,0.0,...|\n",
            "|        23|        22800|                 RENT|              3.0|         PERSONAL|         D|     1750|         15.7|          1|               0.08|                        Y|                         2|                          0.0|                3.0|               3.0|                              1.0|      [23.0,22800.0,3.0...|   [-0.7470779008679...|[0.0,3.0,3.0,1.0,...|\n",
            "|        22|        50400|                 RENT|              3.0|          VENTURE|         B|     2000|        10.99|          0|               0.04|                        N|                         4|                          0.0|                2.0|               1.0|                              0.0|      [22.0,50400.0,3.0...|   [-0.9044566025396...|[0.0,2.0,1.0,0.0,...|\n",
            "|        22|        75000|                 RENT|              6.0|        EDUCATION|         C|     2000|        13.43|          0|               0.03|                        N|                         3|                          0.0|                0.0|               2.0|                              0.0|      [22.0,75000.0,6.0...|   [-0.9044566025396...|[0.0,0.0,2.0,0.0,...|\n",
            "|        24|       135000|                 RENT|              8.0|         PERSONAL|         A|    13050|        10.99|          0|                0.1|                        N|                         3|                          0.0|                3.0|               0.0|                              0.0|      [24.0,135000.0,8....|   [-0.5896991991962...|[0.0,3.0,0.0,0.0,...|\n",
            "|        21|        31200|             MORTGAGE|              2.0|        EDUCATION|         D|     1000|        14.59|          0|               0.03|                        N|                         2|                          1.0|                0.0|               3.0|                              0.0|      [21.0,31200.0,2.0...|   [-1.0618353042112...|[1.0,0.0,3.0,0.0,...|\n",
            "|        25|        24996|                 RENT|              8.0|          VENTURE|         C|     2500|        12.98|          0|                0.1|                        N|                         4|                          0.0|                2.0|               2.0|                              0.0|      [25.0,24996.0,8.0...|   [-0.4323204975245...|[0.0,2.0,2.0,0.0,...|\n",
            "|        23|        32004|                  OWN|              0.0|        EDUCATION|         E|     9250|        17.19|          0|               0.29|                        N|                         4|                          2.0|                0.0|               4.0|                              0.0|      [23.0,32004.0,0.0...|   [-0.7470779008679...|[2.0,0.0,4.0,0.0,...|\n",
            "|        23|        31200|                 RENT|              2.0|        EDUCATION|         B|     3000|        11.89|          0|                0.1|                        N|                         2|                          0.0|                0.0|               1.0|                              0.0|      [23.0,31200.0,2.0...|   [-0.7470779008679...|[0.0,0.0,1.0,0.0,...|\n",
            "+----------+-------------+---------------------+-----------------+-----------------+----------+---------+-------------+-----------+-------------------+-------------------------+--------------------------+-----------------------------+-------------------+------------------+---------------------------------+--------------------------+-----------------------+--------------------+\n",
            "only showing top 20 rows\n",
            "\n"
          ]
        }
      ]
    },
    {
      "cell_type": "markdown",
      "source": [
        "## 9. Salvar como camada enriched\n"
      ],
      "metadata": {
        "id": "xMqTL_rl4wfI"
      }
    },
    {
      "cell_type": "code",
      "source": [
        "# df_enriched.write.mode(\"overwrite\").parquet(\"s3a://credit-risk/enriched/credit_risk_enriched.parquet\")\n"
      ],
      "metadata": {
        "id": "8OGggPR03b6M"
      },
      "execution_count": null,
      "outputs": []
    },
    {
      "cell_type": "markdown",
      "source": [
        "#Clusterização com KMeans"
      ],
      "metadata": {
        "id": "GG2zW8vd9z_f"
      }
    },
    {
      "cell_type": "code",
      "source": [
        "from pyspark.ml.clustering import KMeans\n",
        "from pyspark.ml.evaluation import ClusteringEvaluator"
      ],
      "metadata": {
        "id": "ZyUSDXzX99XA"
      },
      "execution_count": 101,
      "outputs": []
    },
    {
      "cell_type": "markdown",
      "source": [
        "## Treina o modelo de KMeans\n"
      ],
      "metadata": {
        "id": "8kpD8Ymk-AYB"
      }
    },
    {
      "cell_type": "code",
      "source": [
        "kmeans = KMeans(featuresCol=\"features\", predictionCol=\"cluster\", k=4, seed=42)\n",
        "kmeans_model = kmeans.fit(df_enriched)"
      ],
      "metadata": {
        "id": "XeSuGvC098ll"
      },
      "execution_count": 128,
      "outputs": []
    },
    {
      "cell_type": "markdown",
      "source": [
        "## Aplica o modelo para obter os clusters\n"
      ],
      "metadata": {
        "id": "bjb-E0YY-CQm"
      }
    },
    {
      "cell_type": "code",
      "source": [
        "df_clustered = kmeans_model.transform(df_enriched)"
      ],
      "metadata": {
        "id": "5J_FPDza9_O4"
      },
      "execution_count": 129,
      "outputs": []
    },
    {
      "cell_type": "markdown",
      "source": [
        "## Avalia os clusters com índice de Silhouette\n"
      ],
      "metadata": {
        "id": "BMxoeHa9-Dps"
      }
    },
    {
      "cell_type": "code",
      "source": [
        "evaluator = ClusteringEvaluator(featuresCol=\"features\", predictionCol=\"cluster\", metricName=\"silhouette\", distanceMeasure=\"squaredEuclidean\")\n",
        "silhouette = evaluator.evaluate(df_clustered)\n",
        "print(f\"Silhouette Score: {silhouette:.4f}\")"
      ],
      "metadata": {
        "colab": {
          "base_uri": "https://localhost:8080/"
        },
        "id": "4TLT8LHb-FSr",
        "outputId": "bc8dfef9-0c1a-45c1-81dc-4e8173d934b6"
      },
      "execution_count": 130,
      "outputs": [
        {
          "output_type": "stream",
          "name": "stdout",
          "text": [
            "Silhouette Score: 0.2298\n"
          ]
        }
      ]
    },
    {
      "cell_type": "markdown",
      "source": [
        "Como temos dados reais com certa complexidade, e estamos usando técnicas não supervisionadas (como K-Means), um Silhouette Score entre 0.3 e 0.6 já pode ser considerado aceitável.\n",
        "\n",
        "Scores muito altos (>0.7) são raros com dados financeiros reais, pois os grupos tendem a se sobrepor naturalmente (ex: dois clientes diferentes podem ter renda parecida mas perfis distintos de risco)."
      ],
      "metadata": {
        "id": "xVhyAl10ColG"
      }
    },
    {
      "cell_type": "markdown",
      "source": [
        "# Contagem por cluster"
      ],
      "metadata": {
        "id": "h-D_hhme-JyI"
      }
    },
    {
      "cell_type": "code",
      "source": [
        "df_clustered.groupBy(\"cluster\").count().show()"
      ],
      "metadata": {
        "colab": {
          "base_uri": "https://localhost:8080/"
        },
        "id": "QosRdcH4-I9Z",
        "outputId": "d4117497-f818-4807-e5d4-dab655b1376c"
      },
      "execution_count": 131,
      "outputs": [
        {
          "output_type": "stream",
          "name": "stdout",
          "text": [
            "+-------+-----+\n",
            "|cluster|count|\n",
            "+-------+-----+\n",
            "|      1|11395|\n",
            "|      3| 5760|\n",
            "|      2| 6724|\n",
            "|      0| 8537|\n",
            "+-------+-----+\n",
            "\n"
          ]
        }
      ]
    },
    {
      "cell_type": "markdown",
      "source": [
        "# Média das variáveis por cluster (exemplo: person_income e loan_amnt)\n"
      ],
      "metadata": {
        "id": "RNnE6osr-OzX"
      }
    },
    {
      "cell_type": "code",
      "source": [
        "df_clustered.groupBy(\"cluster\").avg(\"person_income\", \"loan_amnt\", \"loan_int_rate\").show()"
      ],
      "metadata": {
        "colab": {
          "base_uri": "https://localhost:8080/"
        },
        "id": "U_KsqzjO-No5",
        "outputId": "5d7f65cf-0f4e-433a-fcb1-7c54813a31f7"
      },
      "execution_count": 132,
      "outputs": [
        {
          "output_type": "stream",
          "name": "stdout",
          "text": [
            "+-------+------------------+------------------+------------------+\n",
            "|cluster|avg(person_income)|    avg(loan_amnt)|avg(loan_int_rate)|\n",
            "+-------+------------------+------------------+------------------+\n",
            "|      1| 62235.59701623519| 8119.449319877139| 9.691194383501752|\n",
            "|      3|60965.988020833334|12346.032986111111|14.157619791666763|\n",
            "|      2|  59857.3991671624|10877.714158239143|13.114022903034083|\n",
            "|      0| 79607.21072976456| 8693.695091952677| 9.007091484127875|\n",
            "+-------+------------------+------------------+------------------+\n",
            "\n"
          ]
        }
      ]
    },
    {
      "cell_type": "code",
      "source": [
        "## Salva resultado com cluster\n"
      ],
      "metadata": {
        "id": "ER_grohR-VrC"
      },
      "execution_count": null,
      "outputs": []
    },
    {
      "cell_type": "code",
      "source": [
        "# df_clustered.write.mode(\"overwrite\").parquet(\"s3a://credit-risk/clustered/credit_risk_clustered.parquet\")\n"
      ],
      "metadata": {
        "id": "YhM830qp92JW"
      },
      "execution_count": null,
      "outputs": []
    }
  ]
}